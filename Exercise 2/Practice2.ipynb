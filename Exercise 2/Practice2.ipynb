{
 "cells": [
  {
   "cell_type": "markdown",
   "metadata": {
    "id": "YLRqn3y2NfJi"
   },
   "source": [
    "## CS431/631 Big Data Infrastructure\n",
    "### Winter 2023 - Assignment 1\n",
    "---"
   ]
  },
  {
   "cell_type": "markdown",
   "metadata": {
    "id": "K2dtUlLTNfJl"
   },
   "source": [
    "**Please edit this (text) cell to provide your name and UW student ID number!**\n",
    "* **Name:** _Daolin An_\n",
    "* **ID:** _20885166_"
   ]
  },
  {
   "cell_type": "markdown",
   "metadata": {
    "id": "z3DCzT-rNfJm"
   },
   "source": [
    "---\n",
    "#### Overview\n",
    "For this assignment, you will be using Python to analyze the [pointwise mutual information (PMI)](http://en.wikipedia.org/wiki/Pointwise_mutual_information) of tokens in the text of Shakespeare's plays.    For this assignment, you will need the same text file (`Shakespeare.txt`) that you used for Assignment 0.   You will also need the Python tokenizer module, `simple_tokenize.py`.\n",
    "\n",
    "If two events $x$ and $y$ are independent, their PMI will be zero.   A positive PMI indicates that $x$ and $y$ are more likely to co-occur than they would be if they were independent.   Similarly, a negative PMI indicates that $x$ and $y$ are less likely to co-occur.   The PMI of events $x$ and $y$ is given by\n",
    "\\begin{equation*}\n",
    "PMI(x,y) = \\log\\frac{p(x,y)}{p(x)p(y)}\n",
    "\\end{equation*}\n",
    "where $p(x)$ and $p(y)$ are the probabilities of occurrence of events $x$ and $y$, and $p(x,y)$ is the probability of co-occurrence of $x$ and $y$.\n",
    "\n",
    "For this assignment, the \"events\" that we are interested in are occurrences of tokens on lines of text in the input file.   For example, one event\n",
    "might represent the occurence of the token \"fire\" a line of text, and another might represent the occurrence of the token \"peace\".   In that case, $p(fire)$ represents the probability that \"fire\" will occur on a line of text, and $p(fire,peace)$ represents the probability that *both* \"fire\" and \"peace\" will occur on the *same* line.   For the purposes of these PMI computations, it does not matter how many times a given token occures on a single line.   Either a line contains a particular token (at least once), or it does not.   For example, consider this line of text:\n",
    "\n",
    "> three three three, said thrice\n",
    "\n",
    "For this line, the following token-pair events have occurred:\n",
    "- (three, said)\n",
    "- (three, thrice)\n",
    "- (said, three)\n",
    "- (said, thrice)\n",
    "- (thrice, three)\n",
    "- (thrice, said)\n",
    "\n",
    "Note that we are not interested in \"reflexive\" pairs, such as (thrice,thrice).\n",
    "\n",
    "In addition to the probabilities of events, we will also be interested in the absolute *number* of occurences of particular events, e.g., the number of lines in which \"fire\" occurs.   We will use $n(x)$ to represent the these numbers.\n",
    "\n",
    "Your main task for this assignment is to write Python code to analyze the PMI of tokens from Shakespeare's plays.    Based this analysis, we want to be able to answer two types of queries:\n",
    "\n",
    "* Two-Token Queries: Given a pair of tokens, $x$ and $y$, report the number of lines on which that pair co-occurs ($n(x,y)$) as well as $PMI(x,y)$.\n",
    "* One-Token Queries: Given a single token, $x$, report the number of lines on which that token occurs ($n(x)$).   In addition, report the five tokens that have the largest PMI with respect to $x$ (and their PMIs).   That is, report the five $y$'s for which $PMI(x,y)$ is largest.\n",
    "\n",
    "To avoid reporting spurious results for the one-token queries, we are only interested in token pairs that co-occur a sufficient number of times.   Therefore, we will use a *threshold* parameter for one-token queries.   A one-token query should only report pairs of tokens that co-occur at least *threshold* times in the input.   For example, given the threshold 12, a one-token query for \"fire\" the should report the five tokens that have the largest PMI (with respect to \"fire\") among all tokens that co-occur with \"fire\" on at least 12 lines.   If there are fewer than five such tokens, report fewer than five.\n",
    "\n"
   ]
  },
  {
   "cell_type": "markdown",
   "metadata": {
    "id": "pBJ1H1i_ENGE"
   },
   "source": [
    "Run the next block to download the text file (`Shakespeare.txt`) and the Python tokenizer module (`simple_tokenize.py`)."
   ]
  },
  {
   "cell_type": "code",
   "execution_count": 1,
   "metadata": {
    "id": "rcXDTtuqENqF"
   },
   "outputs": [],
   "source": [
    "!wget -q https://student.cs.uwaterloo.ca/~cs451/content/cs431/Shakespeare.txt\n",
    "!wget -q https://student.cs.uwaterloo.ca/~cs451/content/cs431/simple_tokenize.py"
   ]
  },
  {
   "cell_type": "markdown",
   "metadata": {
    "id": "BVFO1bonNfJo"
   },
   "source": [
    "---\n",
    "#### Question 1  (2/10 marks):\n",
    "\n",
    "Before writing code to handle the PMI queries, start writing some code to answer some simpler questions that give an\n",
    "idea of how big the PMI analysis problem will be.   The box below contains some starter code that reads in the 'Shakespeare.txt' file and tokenizes it one line at time.   (This is the same code you started with for Assignment 0.)  Extend this code to determine (a) the number of *distinct* tokens that exist in 'Shakespeare.txt', and (b) the number of \n",
    "*distinct* token pairs that exist in 'Shakespeare.txt'.  For the purposes of this question, consider the token pair $x,y$ to be distinct from the pair $y,x$, i.e., count them both.   Ignore token pairs of the form $x,x$. Note that we're considering things one line at a time, so the number of unique pairs is NOT (n)(n-1) where n is the number of unique tokens! If a line is \"this is fine\" then there are 6 distinct pairs on that line.\n",
    "\n",
    "As a sanity check, when rounded you should be getting ~26K distinct tokens and ~2M distinct pairs. (Please remember I ROUNDED so e..g if you say \"I got 1.9M is that OK\" then I will worry about you) "
   ]
  },
  {
   "cell_type": "code",
   "execution_count": 2,
   "metadata": {
    "id": "AWP7tAfsNfJp"
   },
   "outputs": [
    {
     "name": "stdout",
     "output_type": "stream",
     "text": [
      "Number of distinct tokens are: 25975\n",
      "Number of distinct tokens pairs are: 1969760\n",
      "122458\n"
     ]
    }
   ],
   "source": [
    "# this imports the SimpleTokenize function from the simple_tokenize.py file that you uploaded\n",
    "from simple_tokenize import simple_tokenize\n",
    "# permutations() function from itertools is used in this method\n",
    "from itertools import permutations\n",
    "\n",
    "# Now, let's tokenize Shakespeare's plays\n",
    "with open('Shakespeare.txt') as f:\n",
    "    # dictionary variable to store distinct tokens\n",
    "    dict_token = {}\n",
    "    # dictionary variable to store distinct token pairs\n",
    "    dict_token_pair = {}\n",
    "    for line in f:\n",
    "        # tokenize, one line at a time\n",
    "        t = simple_tokenize(line)\n",
    "        # set variable to store tokens that has already been encountered in current line\n",
    "        occurred_token = set()\n",
    "        # list variable to store distinct tokens in current line\n",
    "        distinct_token = []\n",
    "        for token in t:\n",
    "            # add current token to dict_token if it is not in dict_token\n",
    "            #   or increase the value associate with the token key by one\n",
    "            dict_token[token] = dict_token.get(token, 0) + 1\n",
    "            # if current token is distinct from former tokens in the line,\n",
    "            #   add it to the distinct_token list and occurred_token set\n",
    "            if token not in occurred_token:\n",
    "                distinct_token.append(token)\n",
    "                occurred_token.add(token)\n",
    "        # get all distinct token pairs in current line\n",
    "        perm = permutations(distinct_token, 2)\n",
    "        for ele in perm:\n",
    "            # if current token pair has not been in dict_token_pair yet,\n",
    "            #   add the pair to it. or increase the value associate with\n",
    "            #   the token pair key by one\n",
    "            dict_token_pair[ele] = dict_token_pair.get(ele, 0) + 1\n",
    "    print(\"Number of distinct tokens are:\", len(dict_token))\n",
    "    print(\"Number of distinct tokens pairs are:\", len(dict_token_pair))\n",
    "\n",
    "    \n",
    "# extend this code to answer Question 1.\n",
    "# when your code is executed, it should print the number of distinct tokens and the number of distinct token pairs"
   ]
  },
  {
   "cell_type": "markdown",
   "metadata": {
    "id": "PpFi9CxkNfJq"
   },
   "source": [
    "---\n",
    "\n",
    "#### Question 2 (6/10 marks):\n",
    "Next, write Python code to answer the one-token and two-token queries described above, for 'Shakespeare.txt'.   The code cell below contains some starter code that implements a simple text-based query interface.  It allows a user to ask a series of one-token or two-token queries.   Try running the starter code to get a sense of how the interface behaves.    \n",
    "\n",
    "Your task is to write code to read and tokenize 'Shakespeare.txt', record information that will allow both types of PMI queries to be answered, and then answer queries that are posed through the query interface.  Make sure that your code is well commented, so that it will be clear to the markers.\n",
    "\n",
    "If you cannot get answers to both types of queries working, try to get at least one type working, for partial credit.\n",
    "\n",
    "Please appropriately handle cases where the token being queried isn't in the file. Print an appropriate error message and continue reading input.\n",
    "(We won't mark the text of your error messages, but it's bad practice to crash if someone has a typo)\n",
    "\n",
    "Sanity checks: \n",
    "\n",
    "```\n",
    "Input 1 or 2 space-separated tokens (return to quit): the end\n",
    "n(the,end) = 157\n",
    "PMI(the,end) = 0.3505058356267105\n",
    "```\n",
    "\n",
    "If you got n=147 then you didn't use `simple_tokenize()`, you used `split()` and were thrown off by puntuation and capitlization.\n",
    "\n",
    "(If you haven't been told this before, floating point numbers are inexact. You do not need to get exactly those digits, but should match at least 4 of them! Make sure you used log base 10)\n",
    "\n",
    "If your PMI is 2.9ish then you probably are counting how many times each token occurrs rather than how many LINES contain that token. \n",
    "\n",
    "Because of the phrase \"at rope's end\", you should also expect that \"rope's\" doesn't really show up outside this phrase, so it will have a high PMI with \"end\".\n",
    "\n",
    "```\n",
    "n(end,rope's) = 5, PMI(end,rope's) = 2.5ish\n",
    "```\n"
   ]
  },
  {
   "cell_type": "code",
   "execution_count": null,
   "metadata": {
    "id": "3of7ltFENfJr",
    "scrolled": true
   },
   "outputs": [
    {
     "name": "stdin",
     "output_type": "stream",
     "text": [
      "Input 1 or 2 space-separated tokens (return to quit):  as\n",
      "Input a positive integer frequency threshold:  10\n"
     ]
    },
    {
     "name": "stdout",
     "output_type": "stream",
     "text": [
      "  n(as) = 4917\n",
      "  high PMI tokens with respect to as (threshold: 10):\n",
      "    n(as,lief) = 16,  PMI(as,lief) = 1.3699580151911006\n",
      "    n(as,disguised) = 11,  PMI(as,disguised) = 1.0759518030540822\n",
      "    n(as,snow) = 14,  PMI(as,snow) = 0.9513503825651887\n",
      "    n(as,easy) = 20,  PMI(as,easy) = 0.8844035929345756\n",
      "    n(as,twere) = 36,  PMI(as,twere) = 0.8626843432413394\n"
     ]
    }
   ],
   "source": [
    "# this imports the SimpleTokenize function from the simple_tokenize.py file that you uploaded\n",
    "from simple_tokenize import simple_tokenize\n",
    "# the log function for computing PMI\n",
    "# for the sake of consistency across solutions, please use log base 10\n",
    "from math import log\n",
    "\n",
    "###################################################################################################################\n",
    "#  replace this with your PMI analysis code, so that you can support the user interface below\n",
    "#  it should read and tokenize Shakespeare.txt, and store enough information in Python data structures\n",
    "#  to allow you to answer the PMI queries below\n",
    "###################################################################################################################\n",
    "\n",
    "# Function to calculate pmi given p(x), p(y), p(x and y)\n",
    "def PMI(p_x, p_y, p_xy):\n",
    "    pmi = log(p_xy/(p_x * p_y), 10)\n",
    "    return pmi\n",
    "\n",
    "# Process the given file to get all the information needed to calculate pmi\n",
    "def processingFile(file = 'Shakespeare.txt'):\n",
    "    distinct_tokens = set() # to store distinct tokens\n",
    "    info = {} ## dict{token1: [occurrence, dict{token2: coocurrence}]}\n",
    "              ## occurrence => num of lines token1 occurs in the file\n",
    "              ## cooccurrence => num of lines token1 and token2 cooccur in the file\n",
    "    num_lines = 0 # store number of lines in the file\n",
    "    with open(file) as f:\n",
    "        for line in f:\n",
    "            tokens = set(simple_tokenize(line))\n",
    "            num_lines += 1\n",
    "            for token in tokens:\n",
    "                info[token] = info.get(token, [0, {}])\n",
    "                info[token][0] += 1\n",
    "                rest_tokens = tokens - {token}\n",
    "                for t in rest_tokens:\n",
    "                    dict_dict = info[token][1]\n",
    "                    if t not in dict_dict:\n",
    "                        dict_dict[t] = 0\n",
    "                    dict_dict[t] += 1\n",
    "    return [num_lines, info]\n",
    "\n",
    "def calculate(num_lines, info, x, y = '', threshold = -1):\n",
    "    ## input value checking\n",
    "    if threshold == -1:\n",
    "        if x not in info and y not in info:\n",
    "            print('Token ' + x + ' and ' + y + ' are not in the file!')\n",
    "            return None\n",
    "        elif x not in info:\n",
    "            print('Token ' + x + ' is not in the file!')\n",
    "            return None\n",
    "        elif y not in info:\n",
    "            print('Token ' + y + ' is not in the file!')\n",
    "            return None\n",
    "    else:\n",
    "        if x not in info:\n",
    "            print('Token ' + x + ' is not in the file!')\n",
    "            return None\n",
    "    ## initialization\n",
    "    p_x = info[x][0] / num_lines\n",
    "    p_y = 0\n",
    "    p_xy = 0\n",
    "    ## two token case\n",
    "    if threshold == -1:\n",
    "        p_y = info[y][0] / num_lines\n",
    "        num_xy = info[x][1][y]\n",
    "        p_xy = num_xy / num_lines\n",
    "        return [num_xy, PMI(p_x, p_y, p_xy)]\n",
    "    ## one-token case\n",
    "    info_keys = list(info.keys())\n",
    "    dict_pmi = {} # store the calculated pmi\n",
    "    for key in info_keys:\n",
    "        if key == x:\n",
    "            continue\n",
    "        cooccurrence = -1\n",
    "        if key in info[x][1]:\n",
    "            cooccurrence = info[x][1][key]\n",
    "        ## calculate the pmi of token pair (x, y) if they pass the threshold\n",
    "        if cooccurrence >= threshold:\n",
    "            p_y_key = info[key][0] / num_lines\n",
    "            p_xy_key = cooccurrence / num_lines\n",
    "            pmi = PMI(p_x, p_y_key, p_xy_key)\n",
    "            dict_pmi[key] = pmi\n",
    "    ## sort the dict_pmi to get the first five elements with largest pmi\n",
    "    sorted_dict_pmi = sorted(dict_pmi.items(), key = lambda x: x[1], reverse = True)\n",
    "    length = 5 if len(sorted_dict_pmi) > 5 else len(sorted_dict_pmi)\n",
    "    if length == 0:\n",
    "        print('No token pairs pass the threshold!' )\n",
    "    high_pmi_tokens = sorted_dict_pmi[:length]\n",
    "    return high_pmi_tokens\n",
    "\n",
    "result = processingFile()\n",
    "num_lines = result[0]\n",
    "info = result[1]\n",
    "\n",
    "###################################################################################################################\n",
    "#  the user interface below defines the types of PMI queries that users can ask\n",
    "#  you will need to modify it - where indicated - to access the results of your PMI analysis (above)\n",
    "#  so that the queries can be answered\n",
    "###################################################################################################################\n",
    "\n",
    "while True:\n",
    "    q = input(\"Input 1 or 2 space-separated tokens (return to quit): \")\n",
    "    if len(q) == 0:\n",
    "        break\n",
    "    q_tokens = simple_tokenize(q)\n",
    "    if len(q_tokens) == 1:\n",
    "        threshold = 0\n",
    "        while threshold <= 0:\n",
    "            try:\n",
    "                threshold = int(input(\"Input a positive integer frequency threshold: \"))\n",
    "            except ValueError:\n",
    "                print(\"Threshold must be a positive integer!\")\n",
    "                continue\n",
    "        # Put code here to answer a One-Token Query with token q_tokens[0] and the specified threshold,\n",
    "        # and output the result.\n",
    "        # The print() statements below exist to show you the desired output format.\n",
    "        # Replace them with your own output code, which should produce results in a similar format.\n",
    "        high_pmi_tokens = calculate(num_lines, info, x = q, threshold = threshold)\n",
    "        if high_pmi_tokens == None:\n",
    "            continue\n",
    "        num_x = info[q][0] ## occurrence of the given token\n",
    "        num_tokens = len(high_pmi_tokens)\n",
    "        print(\"  n({0}) = {1}\".format(q_tokens[0], num_x))\n",
    "        print(\"  high PMI tokens with respect to {0} (threshold: {1}):\".format(q_tokens[0],threshold))\n",
    "        for i in range(num_tokens):\n",
    "            name_token = high_pmi_tokens[i][0]\n",
    "            num_cooccurrence = info[name_token][1][q_tokens[0]]\n",
    "            pmi = high_pmi_tokens[i][1]\n",
    "            print(\"    n({0},{1}) = {2},  PMI({0},{1}) = {3}\".format(q_tokens[0], name_token, num_cooccurrence, pmi))\n",
    "    elif len(q_tokens) == 2:\n",
    "        # Put code here to answer a Two-Token Query with tokens q_tokens[0] and q_tokens[1]\n",
    "        # As was the case for the One-Token query, the print statements below show the desired output format\n",
    "        # Replace them with your own output code\n",
    "        analysis_two_token = calculate(num_lines, info, x = q_tokens[0], y = q_tokens[1])\n",
    "        if analysis_two_token == None:\n",
    "            continue\n",
    "        num_token = analysis_two_token[0]\n",
    "        pmi_token = analysis_two_token[1]\n",
    "        print(\"  n({0},{1}) = {2}\".format(q_tokens[0],q_tokens[1], num_token))\n",
    "        print(\"  PMI({0},{1}) = {2}\".format(q_tokens[0],q_tokens[1], pmi_token))\n",
    "    else:\n",
    "        print(\"Input must consist of 1 or 2 space-separated tokens!\")\n",
    "        "
   ]
  },
  {
   "cell_type": "markdown",
   "metadata": {
    "id": "4zjE_iW6NfJt",
    "jp-MarkdownHeadingCollapsed": true
   },
   "source": [
    "---\n",
    "\n",
    "#### Question 3 (2/10 marks):\n",
    "\n",
    "Suppose that you try to run your PMI analysis on larger files:  say, 10 times, or 100 times, or 1000 times larger than 'Shakespeare.txt'.    As the input file grows larger, what will happen to the execution of your program?   Will it get slower?   How much slower?   Will it eventually fail to run?   If so, why?\n",
    "\n",
    "Consider two seperate parts: The initial processing of the file, and then the time required to run the queries themselves.\n",
    "(If you did not do any initial processing and reloaded everything for each query, then please go fix that, that's not okay.)\n",
    "\n",
    "\n",
    "In the cell below, briefly (one or two paragraphs), discuss what will happen if the input to your analysis grows.  We're not looking for an exact or empirical analysis of the behaviour of your program as a function of input size.  Rather, we are looking for a discussion of trends and limits.\n",
    "\n",
    "(Tip since we probably haven't got that far in lectures yet: Vocabulary size for a document actually grows unbounded, proportional to the log of the document size!)"
   ]
  },
  {
   "cell_type": "markdown",
   "metadata": {
    "id": "4SVhvS1tNfJu"
   },
   "source": [
    "#### Answer to Question 3:\n",
    "\n",
    "I split the PMI analysis into two part. One for processing the file, and the other for the pmi calculation query. The worst case run time for my processing function is O(n^2), the worst case run time for two-token pmi calculation is O(nlogn), and the worst case run time for one-token pmi calculation is O(1).\n",
    "\n",
    "The file-processing function only needs to be run once, but it may be much slower to run the input file becomes 10 times, 100 times larger since I used a permutation-like method to get all the information needed for the pmi calculation.\n",
    "\n",
    "The run time of two-token case query would still be fast since it only extract two elements from a dictionary and then perform calculation.\n",
    "The run time of one-token case query may be a little bit slower since it involves sorting a dictionary."
   ]
  },
  {
   "cell_type": "markdown",
   "metadata": {
    "id": "Vsr1IWaDNfJu"
   },
   "source": [
    "---\n",
    "Don't forget to save your workbook!   (It's a good idea to do this regularly, while you are working.)   When you are finished and you are ready to submit your assignment, download your notebook file (.ipynb) from the hub to your machine, and then follow the submission instructions in the assignment."
   ]
  }
 ],
 "metadata": {
  "colab": {
   "name": "A1.ipynb",
   "provenance": []
  },
  "kernelspec": {
   "display_name": "Python 3 (ipykernel)",
   "language": "python",
   "name": "python3"
  },
  "language_info": {
   "codemirror_mode": {
    "name": "ipython",
    "version": 3
   },
   "file_extension": ".py",
   "mimetype": "text/x-python",
   "name": "python",
   "nbconvert_exporter": "python",
   "pygments_lexer": "ipython3",
   "version": "3.11.9"
  }
 },
 "nbformat": 4,
 "nbformat_minor": 4
}
